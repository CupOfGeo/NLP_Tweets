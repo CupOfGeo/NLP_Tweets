{
 "cells": [
  {
   "cell_type": "code",
   "execution_count": 1,
   "metadata": {},
   "outputs": [],
   "source": [
    "# pip install spacy"
   ]
  },
  {
   "cell_type": "code",
   "execution_count": 2,
   "metadata": {},
   "outputs": [],
   "source": [
    "# pip install https://github.com/explosion/spacy-models/releases/download/en_core_web_sm-3.0.0/en_core_web_sm-3.0.0-py3-none-any.whl"
   ]
  },
  {
   "cell_type": "code",
   "execution_count": 3,
   "metadata": {},
   "outputs": [],
   "source": [
    "# pip install https://github.com/explosion/spacy-models/releases/download/en_core_web_sm-3.0.0/en_core_web_sm-3.0.0.tar.gz"
   ]
  },
  {
   "cell_type": "code",
   "execution_count": 4,
   "metadata": {},
   "outputs": [],
   "source": [
    "import pandas as pd"
   ]
  },
  {
   "cell_type": "code",
   "execution_count": 5,
   "metadata": {},
   "outputs": [
    {
     "data": {
      "text/html": [
       "<div>\n",
       "<style scoped>\n",
       "    .dataframe tbody tr th:only-of-type {\n",
       "        vertical-align: middle;\n",
       "    }\n",
       "\n",
       "    .dataframe tbody tr th {\n",
       "        vertical-align: top;\n",
       "    }\n",
       "\n",
       "    .dataframe thead th {\n",
       "        text-align: right;\n",
       "    }\n",
       "</style>\n",
       "<table border=\"1\" class=\"dataframe\">\n",
       "  <thead>\n",
       "    <tr style=\"text-align: right;\">\n",
       "      <th></th>\n",
       "      <th>date</th>\n",
       "      <th>target</th>\n",
       "      <th>insult</th>\n",
       "      <th>tweet</th>\n",
       "    </tr>\n",
       "  </thead>\n",
       "  <tbody>\n",
       "    <tr>\n",
       "      <th>count</th>\n",
       "      <td>10360</td>\n",
       "      <td>10358</td>\n",
       "      <td>10360</td>\n",
       "      <td>10360</td>\n",
       "    </tr>\n",
       "    <tr>\n",
       "      <th>unique</th>\n",
       "      <td>1573</td>\n",
       "      <td>866</td>\n",
       "      <td>6729</td>\n",
       "      <td>5673</td>\n",
       "    </tr>\n",
       "    <tr>\n",
       "      <th>top</th>\n",
       "      <td>2020-10-12</td>\n",
       "      <td>the-media</td>\n",
       "      <td>Fake News</td>\n",
       "      <td>The Fake News Networks, those that knowingly h...</td>\n",
       "    </tr>\n",
       "    <tr>\n",
       "      <th>freq</th>\n",
       "      <td>45</td>\n",
       "      <td>1287</td>\n",
       "      <td>431</td>\n",
       "      <td>16</td>\n",
       "    </tr>\n",
       "  </tbody>\n",
       "</table>\n",
       "</div>"
      ],
      "text/plain": [
       "              date     target     insult  \\\n",
       "count        10360      10358      10360   \n",
       "unique        1573        866       6729   \n",
       "top     2020-10-12  the-media  Fake News   \n",
       "freq            45       1287        431   \n",
       "\n",
       "                                                    tweet  \n",
       "count                                               10360  \n",
       "unique                                               5673  \n",
       "top     The Fake News Networks, those that knowingly h...  \n",
       "freq                                                   16  "
      ]
     },
     "execution_count": 5,
     "metadata": {},
     "output_type": "execute_result"
    }
   ],
   "source": [
    "df = pd.read_csv('trump_insult_tweets_2014_to_2021.csv',index_col='Unnamed: 0')\n",
    "df.describe()"
   ]
  },
  {
   "cell_type": "code",
   "execution_count": 6,
   "metadata": {},
   "outputs": [
    {
     "data": {
      "text/plain": [
       "array(['Can you believe this fool, Dr. Thomas Frieden of CDC, just stated, \"anyone with fever should be asked if they have been in West Africa\" DOPE',\n",
       "       'Big time in U.S. today - MAKE AMERICA GREAT AGAIN! Politicians are all talk and no action - they can never bring us back.',\n",
       "       \"Politician @SenatorCardin didn't like that I said Baltimore needs jobs & spirit. It's politicians like Cardin that have destroyed Baltimore.\",\n",
       "       ...,\n",
       "       'They just happened to find 50,000 ballots late last night. The USA is embarrassed by fools. Our Election Process is worse than that of third world countries!',\n",
       "       'The States want to redo their votes. They found out they voted on a FRAUD. Legislatures never approved. Let them do it. BE STRONG!',\n",
       "       'Sleepy Eyes Chuck Todd is so happy with the fake voter tabulation process that he can’t even get the words out straight. Sad to watch!'],\n",
       "      dtype=object)"
      ]
     },
     "execution_count": 6,
     "metadata": {},
     "output_type": "execute_result"
    }
   ],
   "source": [
    "df.tweet.unique()"
   ]
  },
  {
   "cell_type": "code",
   "execution_count": 7,
   "metadata": {},
   "outputs": [
    {
     "data": {
      "text/html": [
       "<div>\n",
       "<style scoped>\n",
       "    .dataframe tbody tr th:only-of-type {\n",
       "        vertical-align: middle;\n",
       "    }\n",
       "\n",
       "    .dataframe tbody tr th {\n",
       "        vertical-align: top;\n",
       "    }\n",
       "\n",
       "    .dataframe thead th {\n",
       "        text-align: right;\n",
       "    }\n",
       "</style>\n",
       "<table border=\"1\" class=\"dataframe\">\n",
       "  <thead>\n",
       "    <tr style=\"text-align: right;\">\n",
       "      <th></th>\n",
       "      <th>date</th>\n",
       "      <th>target</th>\n",
       "      <th>insult</th>\n",
       "      <th>tweet</th>\n",
       "    </tr>\n",
       "  </thead>\n",
       "  <tbody>\n",
       "    <tr>\n",
       "      <th>1</th>\n",
       "      <td>2014-10-09</td>\n",
       "      <td>thomas-frieden</td>\n",
       "      <td>fool</td>\n",
       "      <td>Can you believe this fool, Dr. Thomas Frieden ...</td>\n",
       "    </tr>\n",
       "    <tr>\n",
       "      <th>2</th>\n",
       "      <td>2014-10-09</td>\n",
       "      <td>thomas-frieden</td>\n",
       "      <td>DOPE</td>\n",
       "      <td>Can you believe this fool, Dr. Thomas Frieden ...</td>\n",
       "    </tr>\n",
       "    <tr>\n",
       "      <th>3</th>\n",
       "      <td>2015-06-16</td>\n",
       "      <td>politicians</td>\n",
       "      <td>all talk and no action</td>\n",
       "      <td>Big time in U.S. today - MAKE AMERICA GREAT AG...</td>\n",
       "    </tr>\n",
       "    <tr>\n",
       "      <th>4</th>\n",
       "      <td>2015-06-24</td>\n",
       "      <td>ben-cardin</td>\n",
       "      <td>It's politicians like Cardin that have destroy...</td>\n",
       "      <td>Politician @SenatorCardin didn't like that I s...</td>\n",
       "    </tr>\n",
       "    <tr>\n",
       "      <th>5</th>\n",
       "      <td>2015-06-24</td>\n",
       "      <td>neil-young</td>\n",
       "      <td>total hypocrite</td>\n",
       "      <td>For the nonbeliever, here is a photo of @Neily...</td>\n",
       "    </tr>\n",
       "    <tr>\n",
       "      <th>6</th>\n",
       "      <td>2015-06-24</td>\n",
       "      <td>rockin-in-the-free-world</td>\n",
       "      <td>didn't love it</td>\n",
       "      <td>.@Neilyoung’s song, “Rockin’ In The Free World...</td>\n",
       "    </tr>\n",
       "    <tr>\n",
       "      <th>7</th>\n",
       "      <td>2015-06-25</td>\n",
       "      <td>willie-geist</td>\n",
       "      <td>uncomfortable looking</td>\n",
       "      <td>Uncomfortable looking NBC reporter Willie Geis...</td>\n",
       "    </tr>\n",
       "    <tr>\n",
       "      <th>8</th>\n",
       "      <td>2015-06-25</td>\n",
       "      <td>jeb-bush</td>\n",
       "      <td>will NEVER Make America Great Again</td>\n",
       "      <td>Just out, the new nationwide @FoxNews poll has...</td>\n",
       "    </tr>\n",
       "    <tr>\n",
       "      <th>9</th>\n",
       "      <td>2015-06-25</td>\n",
       "      <td>molly-sims</td>\n",
       "      <td>a disaster</td>\n",
       "      <td>The ratings for The View are really low. Nicol...</td>\n",
       "    </tr>\n",
       "    <tr>\n",
       "      <th>10</th>\n",
       "      <td>2015-06-25</td>\n",
       "      <td>nicole-wallace</td>\n",
       "      <td>a disaster</td>\n",
       "      <td>The ratings for The View are really low. Nicol...</td>\n",
       "    </tr>\n",
       "  </tbody>\n",
       "</table>\n",
       "</div>"
      ],
      "text/plain": [
       "          date                    target  \\\n",
       "1   2014-10-09            thomas-frieden   \n",
       "2   2014-10-09            thomas-frieden   \n",
       "3   2015-06-16               politicians   \n",
       "4   2015-06-24                ben-cardin   \n",
       "5   2015-06-24                neil-young   \n",
       "6   2015-06-24  rockin-in-the-free-world   \n",
       "7   2015-06-25              willie-geist   \n",
       "8   2015-06-25                  jeb-bush   \n",
       "9   2015-06-25                molly-sims   \n",
       "10  2015-06-25            nicole-wallace   \n",
       "\n",
       "                                               insult  \\\n",
       "1                                                fool   \n",
       "2                                                DOPE   \n",
       "3                              all talk and no action   \n",
       "4   It's politicians like Cardin that have destroy...   \n",
       "5                                     total hypocrite   \n",
       "6                                      didn't love it   \n",
       "7                               uncomfortable looking   \n",
       "8                 will NEVER Make America Great Again   \n",
       "9                                          a disaster   \n",
       "10                                         a disaster   \n",
       "\n",
       "                                                tweet  \n",
       "1   Can you believe this fool, Dr. Thomas Frieden ...  \n",
       "2   Can you believe this fool, Dr. Thomas Frieden ...  \n",
       "3   Big time in U.S. today - MAKE AMERICA GREAT AG...  \n",
       "4   Politician @SenatorCardin didn't like that I s...  \n",
       "5   For the nonbeliever, here is a photo of @Neily...  \n",
       "6   .@Neilyoung’s song, “Rockin’ In The Free World...  \n",
       "7   Uncomfortable looking NBC reporter Willie Geis...  \n",
       "8   Just out, the new nationwide @FoxNews poll has...  \n",
       "9   The ratings for The View are really low. Nicol...  \n",
       "10  The ratings for The View are really low. Nicol...  "
      ]
     },
     "execution_count": 7,
     "metadata": {},
     "output_type": "execute_result"
    }
   ],
   "source": [
    "df[:10]"
   ]
  },
  {
   "cell_type": "code",
   "execution_count": 8,
   "metadata": {},
   "outputs": [
    {
     "data": {
      "text/plain": [
       "Fake News               431\n",
       "Crooked                 266\n",
       "Sleepy Joe              129\n",
       "failing                  82\n",
       "Crooked Hillary          77\n",
       "Witch Hunt               76\n",
       "Fake News Media          71\n",
       "Do Nothing Democrats     57\n",
       "FAKE NEWS                52\n",
       "Impeachment Hoax         43\n",
       "Name: insult, dtype: int64"
      ]
     },
     "execution_count": 8,
     "metadata": {},
     "output_type": "execute_result"
    }
   ],
   "source": [
    "df.insult.value_counts()[:10]"
   ]
  },
  {
   "cell_type": "code",
   "execution_count": 9,
   "metadata": {},
   "outputs": [
    {
     "name": "stdout",
     "output_type": "stream",
     "text": [
      "3.8.5\n"
     ]
    }
   ],
   "source": [
    "from platform import python_version\n",
    "\n",
    "print(python_version())"
   ]
  },
  {
   "cell_type": "code",
   "execution_count": 10,
   "metadata": {},
   "outputs": [],
   "source": [
    "import spacy\n",
    "nlp = spacy.load(\"en_core_web_sm\")"
   ]
  },
  {
   "cell_type": "code",
   "execution_count": 11,
   "metadata": {},
   "outputs": [
    {
     "name": "stdout",
     "output_type": "stream",
     "text": [
      "Can you believe this fool, Dr. Thomas Frieden of CDC, just stated, \"anyone with fever should be asked if they have been in West Africa\" DOPE\n",
      "Can AUX aux\n",
      "you PRON nsubj\n",
      "believe VERB ROOT\n",
      "this DET det\n",
      "fool NOUN dobj\n",
      ", PUNCT punct\n",
      "Dr. PROPN compound\n",
      "Thomas PROPN compound\n",
      "Frieden PROPN nsubj\n",
      "of ADP prep\n",
      "CDC PROPN pobj\n",
      ", PUNCT punct\n",
      "just ADV advmod\n",
      "stated VERB parataxis\n",
      ", PUNCT punct\n",
      "\" PUNCT punct\n",
      "anyone PRON nsubjpass\n",
      "with ADP prep\n",
      "fever NOUN pobj\n",
      "should AUX aux\n",
      "be AUX auxpass\n",
      "asked VERB ccomp\n",
      "if SCONJ mark\n",
      "they PRON nsubj\n",
      "have AUX aux\n",
      "been VERB advcl\n",
      "in ADP prep\n",
      "West PROPN compound\n",
      "Africa PROPN pobj\n",
      "\" PUNCT punct\n",
      "DOPE NOUN ROOT\n"
     ]
    }
   ],
   "source": [
    "doc = nlp(df.tweet.iloc[0])\n",
    "print(doc)\n",
    "for token in doc:\n",
    "    print(token.text, token.pos_, token.dep_)"
   ]
  },
  {
   "cell_type": "code",
   "execution_count": 12,
   "metadata": {},
   "outputs": [],
   "source": [
    "#from spacy import displacy\n",
    "#displacy.serve(doc, style=\"dep\")"
   ]
  },
  {
   "cell_type": "code",
   "execution_count": 13,
   "metadata": {},
   "outputs": [
    {
     "name": "stdout",
     "output_type": "stream",
     "text": [
      "Thomas Frieden 31 45 PERSON\n",
      "CDC 49 52 ORG\n",
      "West Africa 123 134 GPE\n",
      "DOPE 136 140 PERSON\n"
     ]
    }
   ],
   "source": [
    "for ent in doc.ents:\n",
    "    print(ent.text, ent.start_char, ent.end_char, ent.label_)"
   ]
  },
  {
   "cell_type": "code",
   "execution_count": 14,
   "metadata": {},
   "outputs": [],
   "source": [
    "nlp = spacy.load(\"en_core_web_md\")"
   ]
  },
  {
   "cell_type": "code",
   "execution_count": 15,
   "metadata": {},
   "outputs": [
    {
     "name": "stdout",
     "output_type": "stream",
     "text": [
      "[Can you believe this fool, Dr. Thomas Frieden of CDC, just stated, \"anyone with fever should be asked if they have been in West Africa\" DOPE, Big time in U.S. today - MAKE AMERICA GREAT AGAIN! Politicians are all talk and no action - they can never bring us back., Politician @SenatorCardin didn't like that I said Baltimore needs jobs & spirit. It's politicians like Cardin that have destroyed Baltimore., For the nonbeliever, here is a photo of @Neilyoung in my office and his $$ request—total hypocrite. http://t.co/Xm4BJvetIa, .@Neilyoung’s song, “Rockin’ In The Free World” was just one of 10 songs used as background music. Didn’t love it anyway., Uncomfortable looking NBC reporter Willie Geist calls me to ask for favors and then mockingly smiles when he is told of my high poll numbers, Just out, the new nationwide @FoxNews poll has me alone in 2nd place, closely behind Jeb Bush-but Bush will NEVER Make America Great Again!, The ratings for The View are really low. Nicole Wallace and Molly Sims are a disaster. Get new cast or just put it to sleep. Dead T.V., .@WhoopiGoldberg had better surround herself with better hosts than Nicole Wallace, who doesn't have a clue. The show is close to death!, I hear that dopey political pundit, Lawrence O'Donnell, one of the dumber people on television, is about to lose his show-no ratings?Too bad]\n"
     ]
    }
   ],
   "source": [
    "docs = [nlp(x) for x in df.tweet.unique()]\n",
    "print(docs[:10])\n"
   ]
  },
  {
   "cell_type": "code",
   "execution_count": 19,
   "metadata": {},
   "outputs": [
    {
     "data": {
      "text/plain": [
       "(942632335873952620, 942632335873952620)"
      ]
     },
     "execution_count": 19,
     "metadata": {},
     "output_type": "execute_result"
    }
   ],
   "source": [
    "docs[1].vocab.strings['about'], docs[6].vocab.strings['about']"
   ]
  },
  {
   "cell_type": "code",
   "execution_count": 23,
   "metadata": {},
   "outputs": [
    {
     "data": {
      "text/plain": [
       "13947"
      ]
     },
     "execution_count": 23,
     "metadata": {},
     "output_type": "execute_result"
    }
   ],
   "source": [
    "len(docs[1].vocab)"
   ]
  },
  {
   "cell_type": "code",
   "execution_count": 16,
   "metadata": {},
   "outputs": [
    {
     "name": "stderr",
     "output_type": "stream",
     "text": [
      "<ipython-input-16-eac91d2a9b3d>:1: UserWarning: [W008] Evaluating Doc.similarity based on empty vectors.\n",
      "  max([(docs[0].similarity(x[1]),x[0]) for x in enumerate(docs[1:])])\n"
     ]
    },
    {
     "data": {
      "text/plain": [
       "(0.9509420836518181, 4057)"
      ]
     },
     "execution_count": 16,
     "metadata": {},
     "output_type": "execute_result"
    }
   ],
   "source": [
    "max([(docs[0].similarity(x[1]),x[0]) for x in enumerate(docs[1:])])"
   ]
  },
  {
   "cell_type": "code",
   "execution_count": 17,
   "metadata": {},
   "outputs": [
    {
     "name": "stdout",
     "output_type": "stream",
     "text": [
      "Politician NOUN compound\n",
      "@SenatorCardin PROPN nsubj\n",
      "did AUX aux\n",
      "n't PART neg\n",
      "like VERB ROOT\n",
      "that DET pobj\n",
      "I PRON nsubj\n",
      "said VERB ROOT\n",
      "Baltimore PROPN nsubj\n",
      "needs VERB ccomp\n",
      "jobs NOUN dobj\n",
      "& CCONJ cc\n",
      "spirit NOUN conj\n",
      ". PUNCT punct\n",
      "It PRON nsubj\n",
      "'s AUX ROOT\n",
      "politicians NOUN attr\n",
      "like ADP prep\n",
      "Cardin PROPN pobj\n",
      "that DET nsubj\n",
      "have AUX aux\n",
      "destroyed VERB relcl\n",
      "Baltimore PROPN dobj\n",
      ". PUNCT punct\n"
     ]
    }
   ],
   "source": [
    "for token in docs[2]:\n",
    "    print(token.text, token.pos_, token.dep_)"
   ]
  },
  {
   "cell_type": "code",
   "execution_count": 18,
   "metadata": {},
   "outputs": [
    {
     "name": "stdout",
     "output_type": "stream",
     "text": [
      "Can 8.726087 True\n",
      "you 10.390781 True\n",
      "believe 7.236331 True\n",
      "this 7.299383 True\n",
      "fool 6.6340504 True\n",
      ", 7.473772 True\n",
      "Dr. 8.192276 True\n",
      "Thomas 8.880541 True\n",
      "Frieden 7.1818576 True\n",
      "of 8.937285 True\n",
      "CDC 7.253872 True\n",
      ", 7.282907 True\n",
      "just 9.3258505 True\n",
      "stated 7.0702996 True\n",
      ", 8.019892 True\n",
      "\" 7.9044957 True\n",
      "anyone 7.665247 True\n",
      "with 7.759204 True\n",
      "fever 7.1491866 True\n",
      "should 9.060779 True\n",
      "be 10.026999 True\n",
      "asked 8.970652 True\n",
      "if 8.723421 True\n",
      "they 9.545793 True\n",
      "have 9.105106 True\n",
      "been 7.926027 True\n",
      "in 7.004325 True\n",
      "West 7.6413894 True\n",
      "Africa 7.961494 True\n",
      "\" 8.146288 True\n",
      "DOPE 6.4124794 True\n"
     ]
    }
   ],
   "source": [
    "for token in doc:\n",
    "    print(token.text, token.vector_norm, token.is_oov)"
   ]
  },
  {
   "cell_type": "code",
   "execution_count": null,
   "metadata": {},
   "outputs": [],
   "source": []
  },
  {
   "cell_type": "code",
   "execution_count": null,
   "metadata": {},
   "outputs": [],
   "source": []
  },
  {
   "cell_type": "code",
   "execution_count": null,
   "metadata": {},
   "outputs": [],
   "source": []
  }
 ],
 "metadata": {
  "kernelspec": {
   "display_name": "Python 3",
   "language": "python",
   "name": "python3"
  },
  "language_info": {
   "codemirror_mode": {
    "name": "ipython",
    "version": 3
   },
   "file_extension": ".py",
   "mimetype": "text/x-python",
   "name": "python",
   "nbconvert_exporter": "python",
   "pygments_lexer": "ipython3",
   "version": "3.8.5"
  }
 },
 "nbformat": 4,
 "nbformat_minor": 4
}
